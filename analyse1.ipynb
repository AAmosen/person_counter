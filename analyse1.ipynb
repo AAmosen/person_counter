{
  "nbformat": 4,
  "nbformat_minor": 0,
  "metadata": {
    "colab": {
      "name": "Untitled4.ipynb",
      "provenance": [],
      "collapsed_sections": [],
      "toc_visible": true,
      "authorship_tag": "ABX9TyPIebZBLz4he7HM8N1n3dlw",
      "include_colab_link": true
    },
    "kernelspec": {
      "name": "python3",
      "display_name": "Python 3"
    }
  },
  "cells": [
    {
      "cell_type": "markdown",
      "metadata": {
        "id": "view-in-github",
        "colab_type": "text"
      },
      "source": [
        "<a href=\"https://colab.research.google.com/github/AAmosen/person_counter/blob/master/analyse1.ipynb\" target=\"_parent\"><img src=\"https://colab.research.google.com/assets/colab-badge.svg\" alt=\"Open In Colab\"/></a>"
      ]
    },
    {
      "cell_type": "markdown",
      "metadata": {
        "id": "h7bG55qwA6XQ",
        "colab_type": "text"
      },
      "source": [
        "**Python kode til at bekandle data fra person tælleren**\n",
        "\n",
        "Det forudsættes at filen ligger på github og har følgende format:\n",
        "\n",
        "Id,Start_c,end_c,start_epoch,end_epock\n",
        "\n",
        "15,5250,9571,1592836979,1592841300\n"
      ]
    },
    {
      "cell_type": "markdown",
      "metadata": {
        "id": "qgWiB4WvA71u",
        "colab_type": "text"
      },
      "source": [
        "Først skal pandas indlæses og udskriv hvilæken version vi køre på"
      ]
    },
    {
      "cell_type": "code",
      "metadata": {
        "id": "ZophCwSyAXd5",
        "colab_type": "code",
        "colab": {
          "base_uri": "https://localhost:8080/",
          "height": 36
        },
        "outputId": "d2693d0e-e5eb-41fa-f965-fcb4edfe6767"
      },
      "source": [
        "import pandas as pd\n",
        "pd.__version__"
      ],
      "execution_count": 4,
      "outputs": [
        {
          "output_type": "execute_result",
          "data": {
            "application/vnd.google.colaboratory.intrinsic": {
              "type": "string"
            },
            "text/plain": [
              "'1.0.5'"
            ]
          },
          "metadata": {
            "tags": []
          },
          "execution_count": 4
        }
      ]
    },
    {
      "cell_type": "code",
      "metadata": {
        "id": "xmahwNEsBnWu",
        "colab_type": "code",
        "colab": {}
      },
      "source": [
        "df =  pd.read_csv(\"https://raw.githubusercontent.com/Esbern/person_counter/master/counter_1.csv?token=AAM6QHN3YHBSA4FOZWWEOKS675APO\")"
      ],
      "execution_count": 5,
      "outputs": []
    },
    {
      "cell_type": "markdown",
      "metadata": {
        "id": "kaEN1N_yApAZ",
        "colab_type": "text"
      },
      "source": [
        "En hurtig statistisk rapport\n"
      ]
    },
    {
      "cell_type": "code",
      "metadata": {
        "id": "npasuqXmAvV8",
        "colab_type": "code",
        "colab": {
          "base_uri": "https://localhost:8080/",
          "height": 300
        },
        "outputId": "6d5a4922-da9a-4375-8071-148e03711eea"
      },
      "source": [
        "df.describe()"
      ],
      "execution_count": 8,
      "outputs": [
        {
          "output_type": "execute_result",
          "data": {
            "text/html": [
              "<div>\n",
              "<style scoped>\n",
              "    .dataframe tbody tr th:only-of-type {\n",
              "        vertical-align: middle;\n",
              "    }\n",
              "\n",
              "    .dataframe tbody tr th {\n",
              "        vertical-align: top;\n",
              "    }\n",
              "\n",
              "    .dataframe thead th {\n",
              "        text-align: right;\n",
              "    }\n",
              "</style>\n",
              "<table border=\"1\" class=\"dataframe\">\n",
              "  <thead>\n",
              "    <tr style=\"text-align: right;\">\n",
              "      <th></th>\n",
              "      <th>Id</th>\n",
              "      <th>Start_c</th>\n",
              "      <th>end_c</th>\n",
              "      <th>start_epoch</th>\n",
              "      <th>end_epock</th>\n",
              "    </tr>\n",
              "  </thead>\n",
              "  <tbody>\n",
              "    <tr>\n",
              "      <th>count</th>\n",
              "      <td>23532.000000</td>\n",
              "      <td>2.353200e+04</td>\n",
              "      <td>2.353200e+04</td>\n",
              "      <td>2.353200e+04</td>\n",
              "      <td>2.353200e+04</td>\n",
              "    </tr>\n",
              "    <tr>\n",
              "      <th>mean</th>\n",
              "      <td>8.185705</td>\n",
              "      <td>5.300232e+07</td>\n",
              "      <td>5.300380e+07</td>\n",
              "      <td>1.645834e+09</td>\n",
              "      <td>1.645836e+09</td>\n",
              "    </tr>\n",
              "    <tr>\n",
              "      <th>std</th>\n",
              "      <td>4.322378</td>\n",
              "      <td>3.489730e+07</td>\n",
              "      <td>3.489732e+07</td>\n",
              "      <td>3.489730e+07</td>\n",
              "      <td>3.489732e+07</td>\n",
              "    </tr>\n",
              "    <tr>\n",
              "      <th>min</th>\n",
              "      <td>0.000000</td>\n",
              "      <td>2.530000e+03</td>\n",
              "      <td>9.571000e+03</td>\n",
              "      <td>1.592834e+09</td>\n",
              "      <td>1.592841e+09</td>\n",
              "    </tr>\n",
              "    <tr>\n",
              "      <th>25%</th>\n",
              "      <td>6.000000</td>\n",
              "      <td>5.961666e+06</td>\n",
              "      <td>5.962688e+06</td>\n",
              "      <td>1.598793e+09</td>\n",
              "      <td>1.598794e+09</td>\n",
              "    </tr>\n",
              "    <tr>\n",
              "      <th>50%</th>\n",
              "      <td>7.000000</td>\n",
              "      <td>6.715816e+07</td>\n",
              "      <td>6.715904e+07</td>\n",
              "      <td>1.659990e+09</td>\n",
              "      <td>1.659991e+09</td>\n",
              "    </tr>\n",
              "    <tr>\n",
              "      <th>75%</th>\n",
              "      <td>12.000000</td>\n",
              "      <td>8.308364e+07</td>\n",
              "      <td>8.308485e+07</td>\n",
              "      <td>1.675915e+09</td>\n",
              "      <td>1.675917e+09</td>\n",
              "    </tr>\n",
              "    <tr>\n",
              "      <th>max</th>\n",
              "      <td>15.000000</td>\n",
              "      <td>1.325746e+08</td>\n",
              "      <td>1.325754e+08</td>\n",
              "      <td>1.725406e+09</td>\n",
              "      <td>1.725407e+09</td>\n",
              "    </tr>\n",
              "  </tbody>\n",
              "</table>\n",
              "</div>"
            ],
            "text/plain": [
              "                 Id       Start_c         end_c   start_epoch     end_epock\n",
              "count  23532.000000  2.353200e+04  2.353200e+04  2.353200e+04  2.353200e+04\n",
              "mean       8.185705  5.300232e+07  5.300380e+07  1.645834e+09  1.645836e+09\n",
              "std        4.322378  3.489730e+07  3.489732e+07  3.489730e+07  3.489732e+07\n",
              "min        0.000000  2.530000e+03  9.571000e+03  1.592834e+09  1.592841e+09\n",
              "25%        6.000000  5.961666e+06  5.962688e+06  1.598793e+09  1.598794e+09\n",
              "50%        7.000000  6.715816e+07  6.715904e+07  1.659990e+09  1.659991e+09\n",
              "75%       12.000000  8.308364e+07  8.308485e+07  1.675915e+09  1.675917e+09\n",
              "max       15.000000  1.325746e+08  1.325754e+08  1.725406e+09  1.725407e+09"
            ]
          },
          "metadata": {
            "tags": []
          },
          "execution_count": 8
        }
      ]
    },
    {
      "cell_type": "markdown",
      "metadata": {
        "id": "fsvj5OG3E1IQ",
        "colab_type": "text"
      },
      "source": [
        "Udskriv data type, tabel størrelse samt de første og sidste linjer som kontrold"
      ]
    },
    {
      "cell_type": "code",
      "metadata": {
        "id": "cFGAPIUSElQX",
        "colab_type": "code",
        "colab": {
          "base_uri": "https://localhost:8080/",
          "height": 364
        },
        "outputId": "350e9ffa-2732-41f8-9405-13374f817271"
      },
      "source": [
        "print(df.dtypes)\n",
        "print(df.index)\n",
        "print(df.head())\n",
        "print(df.tail())"
      ],
      "execution_count": 8,
      "outputs": [
        {
          "output_type": "stream",
          "text": [
            "Id             int64\n",
            "Start_c        int64\n",
            "end_c          int64\n",
            "start_epoch    int64\n",
            "end_epock      int64\n",
            "duration       int64\n",
            "dtype: object\n",
            "RangeIndex(start=0, stop=23532, step=1)\n",
            "   Id  Start_c  end_c  start_epoch   end_epock  duration\n",
            "0  15     5250   9571   1592836979  1592841300      4321\n",
            "1   6     5369   9650   1592837098  1592841379      4281\n",
            "2   7     5369   9650   1592837098  1592841379      4281\n",
            "3  14     6569   9651   1592838298  1592841380      3082\n",
            "4   5     5449   9770   1592837178  1592841499      4321\n",
            "       Id    Start_c      end_c  start_epoch   end_epock  duration\n",
            "23527  14  132226457  132227340   1725058186  1725059069       883\n",
            "23528  15  132226458  132227340   1725058187  1725059069       882\n",
            "23529   6  132574437  132575439   1725406166  1725407168      1002\n",
            "23530  13  132574558  132575440   1725406287  1725407169       882\n",
            "23531  14  132574438  132575440   1725406167  1725407169      1002\n"
          ],
          "name": "stdout"
        }
      ]
    },
    {
      "cell_type": "code",
      "metadata": {
        "id": "L3tUdsxDNDum",
        "colab_type": "code",
        "colab": {}
      },
      "source": [
        "df['duration'] = df.end_epock - df.start_epoch"
      ],
      "execution_count": 6,
      "outputs": []
    },
    {
      "cell_type": "code",
      "metadata": {
        "id": "eM_XxMKrRQ4d",
        "colab_type": "code",
        "colab": {
          "base_uri": "https://localhost:8080/",
          "height": 165
        },
        "outputId": "824d5472-0b55-4f66-cd74-ccd476eb12b8"
      },
      "source": [
        "df[day] = pd.to_datetime(df.start_epoch,unit='D')\n"
      ],
      "execution_count": 9,
      "outputs": [
        {
          "output_type": "error",
          "ename": "AttributeError",
          "evalue": "ignored",
          "traceback": [
            "\u001b[0;31m---------------------------------------------------------------------------\u001b[0m",
            "\u001b[0;31mAttributeError\u001b[0m                            Traceback (most recent call last)",
            "\u001b[0;32m<ipython-input-9-5ae00c7a2c84>\u001b[0m in \u001b[0;36m<module>\u001b[0;34m()\u001b[0m\n\u001b[0;32m----> 1\u001b[0;31m \u001b[0mdf\u001b[0m\u001b[0;34m[\u001b[0m\u001b[0mday\u001b[0m\u001b[0;34m]\u001b[0m \u001b[0;34m=\u001b[0m \u001b[0mpd\u001b[0m\u001b[0;34m.\u001b[0m\u001b[0mpd\u001b[0m\u001b[0;34m.\u001b[0m\u001b[0mto_datetime\u001b[0m\u001b[0;34m(\u001b[0m\u001b[0mdf\u001b[0m\u001b[0;34m.\u001b[0m\u001b[0mstart_epoch\u001b[0m\u001b[0;34m,\u001b[0m\u001b[0munit\u001b[0m\u001b[0;34m=\u001b[0m\u001b[0;34m'D'\u001b[0m\u001b[0;34m)\u001b[0m\u001b[0;34m\u001b[0m\u001b[0;34m\u001b[0m\u001b[0m\n\u001b[0m",
            "\u001b[0;31mAttributeError\u001b[0m: module 'pandas' has no attribute 'pd'"
          ]
        }
      ]
    }
  ]
}